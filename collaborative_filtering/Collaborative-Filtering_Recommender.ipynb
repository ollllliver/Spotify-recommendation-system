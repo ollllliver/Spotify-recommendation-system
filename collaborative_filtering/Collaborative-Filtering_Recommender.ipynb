{
 "cells": [
  {
   "cell_type": "code",
   "execution_count": null,
   "metadata": {},
   "outputs": [],
   "source": [
    "import pandas as pd"
   ]
  },
  {
   "cell_type": "markdown",
   "metadata": {},
   "source": [
    "# Collab Filtering Recommender\n",
    "\n"
   ]
  },
  {
   "cell_type": "code",
   "execution_count": null,
   "metadata": {},
   "outputs": [],
   "source": [
    "similarity_df = pd.read_csv('item_similarity.csv', index_col = 0)\n",
    "similarity_df"
   ]
  },
  {
   "cell_type": "code",
   "execution_count": null,
   "metadata": {},
   "outputs": [],
   "source": [
    "def get_similar_songs(songURL):\n",
    "    similar_score = similarity_df[songURL]*0.5\n",
    "    similar_score = similar_score.sort_values(ascending=False)\n",
    "    return similar_score"
   ]
  },
  {
   "cell_type": "code",
   "execution_count": 10,
   "metadata": {},
   "outputs": [
    {
     "data": {
      "text/plain": [
       "spotify:track:7zBPzAjKAqQpcv8F8GCq5s    0.496708\n",
       "spotify:track:7zsw78LtXUD7JfEwH64HK2    0.496708\n",
       "spotify:track:0zstgBrV1t1g6n4jHrUVBY    0.347132\n",
       "spotify:track:4HGIPyqDxSf863tPOwXiLJ    0.324174\n",
       "spotify:track:0Q4a3PdGEME9w8Jgqa0Gf3    0.309010\n",
       "spotify:track:1lOSxJNCLvWm2bYaTcTSmK    0.309010\n",
       "spotify:track:6oYkwjI1TKP9D0Y9II1GT7    0.304257\n",
       "spotify:track:2AILbz83cBnrAMAG06rZts    0.298751\n",
       "spotify:track:2rJFFUEl1LURkV0b0OARXx    0.298077\n",
       "spotify:track:0I8mZRtlFGOqZayJbEAdxL    0.294661\n",
       "spotify:track:7tUSJY4nsDBJTjd1UXKRsT    0.286436\n",
       "spotify:track:0CKmN3Wwk8W4zjU0pqq2cv    0.282786\n",
       "spotify:track:3uZIfWx5ridUBQevmgHDUt    0.282576\n",
       "spotify:track:7sYaJXMEvq3q91jJNm8I7I    0.282576\n",
       "spotify:track:6btdYzQ8eZFBrOlUKVHuz0    0.277328\n",
       "spotify:track:3uVkugZz6yCTw5Z8sDI19F    0.262673\n",
       "spotify:track:6hhVS4jyOPioRJaY1zVRHj    0.262066\n",
       "spotify:track:1HSJMLtNeDryJN76Tu5Ahf    0.259758\n",
       "spotify:track:5E8yddtSG3sH4hw2SfwcgW    0.258483\n",
       "spotify:track:6mDxu0xwhv5tn1oMTNUypu    0.257292\n",
       "spotify:track:70b5Sq3ePOu3Gqg0hjlOtR    0.255179\n",
       "spotify:track:65V4OsgLqztVY0mlOx5HEh    0.254048\n",
       "spotify:track:1OYOLWqKmhkFIx2KC9ek1a    0.243057\n",
       "spotify:track:4InER8nvZnn3nt56anVVNO    0.238983\n",
       "spotify:track:0TCt7OFRdD8PQ6vTRQxNgQ    0.238983\n",
       "spotify:track:3IPnBzGRMg6BfViFxxa0Gq    0.238467\n",
       "spotify:track:0HU5JnVaKNTWf6GykV9Zn8    0.238467\n",
       "spotify:track:5VIfacsWytkcgr7aTt8Tql    0.238452\n",
       "spotify:track:03xWMkKEbeO4SnylA53ipj    0.237252\n",
       "spotify:track:6P316E7tFylzpVrDrXVF9s    0.232348\n",
       "                                          ...   \n",
       "spotify:track:7w87IxuO7BDcJ3YUqCyMTT   -0.011499\n",
       "spotify:track:3cfOd4CMv2snFaKAnMdnvK   -0.011499\n",
       "spotify:track:2QjOHCTQ1Jl3zawyYOpxh6   -0.011567\n",
       "spotify:track:03fT3OHB9KyMtGMt2zwqCT   -0.011567\n",
       "spotify:track:6g1NlCpW7fgqDnWbCCDrHl   -0.011567\n",
       "spotify:track:2H3ZUSE54pST4ubRd5FzFR   -0.011567\n",
       "spotify:track:6Ep6BzIOB9tz3P4sWqiiAB   -0.011635\n",
       "spotify:track:0CcQNd8CINkwQfe1RDtGV6   -0.011635\n",
       "spotify:track:46lFttIf5hnUZMGvjK0Wxo   -0.011703\n",
       "spotify:track:13HVjjWUZFaWilh2QUJKsP   -0.011771\n",
       "spotify:track:53QF56cjZA9RTuuMZDrSA6   -0.011771\n",
       "spotify:track:40riOy7x9W7GXjyGp4pjAv   -0.011838\n",
       "spotify:track:6fxVffaTuwjgEk5h9QyRjy   -0.011838\n",
       "spotify:track:7o2CTH4ctstm8TNelqjb51   -0.011971\n",
       "spotify:track:494OU6M7NOf4ICYb4zWCf5   -0.011971\n",
       "spotify:track:04DwTuZ2VBdJCCC5TROn7L   -0.012037\n",
       "spotify:track:1mqlc0vEP9mU1kZgTi6LIQ   -0.012103\n",
       "spotify:track:7vFoFDWqTX0mHzLfrF1Cfy   -0.012168\n",
       "spotify:track:6ZYS6QQxTLsQ6IFXdVx1r4   -0.012298\n",
       "spotify:track:4llK75pXNWZz6KAho2Gp16   -0.012427\n",
       "spotify:track:4CJVkjo5WpmUAKp3R44LNb   -0.012491\n",
       "spotify:track:3yrSvpt2l1xhsV9Em88Pul   -0.012555\n",
       "spotify:track:0IqKeD8ZSP72KbGYyzEcAs   -0.012868\n",
       "spotify:track:5uCax9HTNlzGybIStD3vDh   -0.013296\n",
       "spotify:track:4kbj5MwxO1bq9wjT5g9HaA   -0.013416\n",
       "spotify:track:1Slwb6dOYkBlWal1PGtnNg   -0.014001\n",
       "spotify:track:4bHsxqR3GMrXTxEPLuK5ue   -0.014172\n",
       "spotify:track:32OlwWuMpZ6b0aN2RZOeMS   -0.014454\n",
       "spotify:track:4WjH9Bzt3kx7z8kl0awxh4   -0.014565\n",
       "spotify:track:7oK9VyNzrYvRFo7nQEYkWN   -0.014895\n",
       "Length: 5966, dtype: float64"
      ]
     },
     "execution_count": 10,
     "metadata": {},
     "output_type": "execute_result"
    }
   ],
   "source": [
    "def get_similar_playlist_with_names(songs):\n",
    "    similar_songs = pd.DataFrame()\n",
    "    for song in songs:\n",
    "        similar_songs = similar_songs.append(get_similar_songs(song), ignore_index=True)\n",
    "    similar_songs = similar_songs.sum().sort_values(ascending=False)\n",
    "    return similar_songs\n",
    "\n",
    "get_similar_playlist(['spotify:track:7zsw78LtXUD7JfEwH64HK2', 'spotify:track:7zBPzAjKAqQpcv8F8GCq5s']) \n"
   ]
  },
  {
   "cell_type": "code",
   "execution_count": null,
   "metadata": {},
   "outputs": [],
   "source": [
    "def get_similar_playlist(songs):\n",
    "    similar_songs = pd.DataFrame()\n",
    "    for song in songs:\n",
    "        similar_songs = similar_songs.append(get_similar_songs(song), ignore_index=True)\n",
    "    similar_songs = similar_songs.sum().sort_values(ascending=False)\n",
    "    return similar_songs\n",
    "\n",
    "get_similar_playlist(['spotify:track:7zsw78LtXUD7JfEwH64HK2', 'spotify:track:7zBPzAjKAqQpcv8F8GCq5s'])\n"
   ]
  }
 ],
 "metadata": {
  "interpreter": {
   "hash": "31f2aee4e71d21fbe5cf8b01ff0e069b9275f58929596ceb00d14d90e3e16cd6"
  },
  "kernelspec": {
   "display_name": "Python 3.6.9 64-bit",
   "name": "python3"
  },
  "language_info": {
   "codemirror_mode": {
    "name": "ipython",
    "version": 3
   },
   "file_extension": ".py",
   "mimetype": "text/x-python",
   "name": "python",
   "nbconvert_exporter": "python",
   "pygments_lexer": "ipython3",
   "version": "3.6.9"
  },
  "orig_nbformat": 4
 },
 "nbformat": 4,
 "nbformat_minor": 2
}

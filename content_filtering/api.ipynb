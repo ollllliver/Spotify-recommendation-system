{
 "cells": [
  {
   "cell_type": "code",
   "execution_count": null,
   "metadata": {},
   "outputs": [],
   "source": [
    "import psycopg2\n",
    "import pandas as pd\n",
    "from getpass import getpass\n",
    "import spotipy\n",
    "from spotipy.oauth2 import SpotifyClientCredentials\n",
    "import re \n",
    "import pandas as pd\n",
    "from tqdm import tqdm\n",
    "\n",
    "\n",
    "user = input(\"Bitte User für DB eingeben\")\n",
    "pswd = getpass(\"Bitte Passwort für DB eingeben\")\n",
    "conn = psycopg2.connect(f\"dbname='orent001_spotify_test' user='{user}' host='localhost' port='9001' password='{pswd}'\")\n"
   ]
  },
  {
   "cell_type": "code",
   "execution_count": null,
   "metadata": {},
   "outputs": [],
   "source": [
    "querry = \"\"\"SELECT playlist.playlist_id, playlist.name, playlist.collaborative, playlist.modified_at, playlist.num_tracks, playlist.num_albums, playlist.num_followers, playlist.duration_ms as duration_ms_playlist, playlist.num_artists, playlist.num_edits,\n",
    "            p_enthaelt_s.pos,\n",
    "            song.song_id, song.interpret, song.album, song.track_name, song.duration_ms as duration_ms_song,\n",
    "            interpret.artist_name\n",
    "from playlist\n",
    "INNER JOIN p_enthaelt_s on p_enthaelt_s.playlist = playlist.playlist_id\n",
    "INNER JOIN song on song_id = p_enthaelt_s.song\n",
    "INNER JOIN interpret on interpret_id = song.interpret\n",
    "\"\"\"\n",
    "dataset = pd.io.sql.read_sql_query(querry,conn)\n",
    "dataset"
   ]
  },
  {
   "cell_type": "code",
   "execution_count": null,
   "metadata": {},
   "outputs": [],
   "source": [
    "dataset.to_csv(\"data.csv\")"
   ]
  },
  {
   "cell_type": "code",
   "execution_count": null,
   "metadata": {},
   "outputs": [],
   "source": [
    "def getFeatures(index):\n",
    "\n",
    "    cid = 'cf84ae5a48054fffb8b47f6b9239748c'\n",
    "    secret = 'c74bbff82dcb4ddbba73f6e3aa7726be'\n",
    "\n",
    "\n",
    "    client_credentials_manager = SpotifyClientCredentials(client_id=cid, client_secret=secret)\n",
    "    sp = spotipy.Spotify(client_credentials_manager = client_credentials_manager)\n",
    "    \n",
    "    #Audio features\n",
    "    features = sp.audio_features(index)[0]\n",
    "    \n",
    "    #Artist of the track, for genres and popularity\n",
    "    artist = sp.track(index)[\"artists\"][0][\"id\"]\n",
    "    artist_pop = sp.artist(artist)[\"popularity\"]\n",
    "    artist_genres = sp.artist(artist)[\"genres\"]\n",
    "    \n",
    "    #Track popularity\n",
    "    track_pop = sp.track(index)[\"popularity\"]\n",
    "    \n",
    "    #Add in extra features\n",
    "    features[\"artist_pop\"] = artist_pop\n",
    "    if artist_genres:\n",
    "        features[\"genres\"] = \" \".join([re.sub(' ','_',i) for i in artist_genres])\n",
    "    else:\n",
    "        features[\"genres\"] = \"unknown\"\n",
    "    features[\"track_pop\"] = track_pop\n",
    "    \n",
    "    return features"
   ]
  },
  {
   "cell_type": "code",
   "execution_count": null,
   "metadata": {},
   "outputs": [],
   "source": [
    "dataPath = 'data.csv'\n",
    "df = pd.read_csv(dataPath)\n",
    "df.head()"
   ]
  },
  {
   "cell_type": "code",
   "execution_count": null,
   "metadata": {},
   "outputs": [],
   "source": [
    "testDF = df"
   ]
  },
  {
   "cell_type": "code",
   "execution_count": null,
   "metadata": {},
   "outputs": [],
   "source": [
    "first = df[\"song_id\"].unique()[:10000]\n",
    "second = df[\"song_id\"].unique()[10000:20000]\n",
    "third = df[\"song_id\"].unique()[20000:]\n",
    "dataList = [first,second,third]"
   ]
  },
  {
   "cell_type": "code",
   "execution_count": null,
   "metadata": {},
   "outputs": [],
   "source": [
    "featureList = []\n",
    "\n",
    "for i in tqdm([uri for uri in dataList[0]]):\n",
    "    try:\n",
    "        featureList.append(getFeatures(i))\n",
    "    except:\n",
    "        continue"
   ]
  },
  {
   "cell_type": "code",
   "execution_count": null,
   "metadata": {},
   "outputs": [],
   "source": [
    "for i in tqdm([uri for uri in dataList[1]]):\n",
    "    try:\n",
    "        featureList.append(getFeatures(i))\n",
    "    except:\n",
    "        continue"
   ]
  },
  {
   "cell_type": "code",
   "execution_count": null,
   "metadata": {},
   "outputs": [],
   "source": [
    "for i in tqdm([uri for uri in dataList[2]]):\n",
    "    try:\n",
    "        featureList.append(getFeatures(i))\n",
    "    except:\n",
    "        continue"
   ]
  },
  {
   "cell_type": "code",
   "execution_count": null,
   "metadata": {},
   "outputs": [],
   "source": [
    "featureDF = pd.DataFrame(featureList)\n",
    "featureDF"
   ]
  },
  {
   "cell_type": "code",
   "execution_count": null,
   "metadata": {},
   "outputs": [],
   "source": [
    "new_df = pd.merge(testDF,featureDF, left_on = \"song_id\", right_on= \"id\")\n",
    "new_df.to_csv('combined.csv')"
   ]
  }
 ],
 "metadata": {
  "interpreter": {
   "hash": "93f2ff571eb6f842c88816c43b88520698a66b973b4a9f94f7aa5038fa327404"
  },
  "kernelspec": {
   "display_name": "Python 3.9.1 64-bit",
   "language": "python",
   "name": "python3"
  },
  "language_info": {
   "codemirror_mode": {
    "name": "ipython",
    "version": 3
   },
   "file_extension": ".py",
   "mimetype": "text/x-python",
   "name": "python",
   "nbconvert_exporter": "python",
   "pygments_lexer": "ipython3",
   "version": "3.9.1"
  },
  "orig_nbformat": 4
 },
 "nbformat": 4,
 "nbformat_minor": 2
}
